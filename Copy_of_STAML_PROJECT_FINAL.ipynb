{
  "cells": [
    {
      "cell_type": "code",
      "execution_count": null,
      "metadata": {
        "id": "COau5wDqg2vy"
      },
      "outputs": [],
      "source": [
        "import pandas as pd\n",
        "a=pd.read_csv('/content/credit_card_default.csv')"
      ]
    },
    {
      "cell_type": "code",
      "execution_count": null,
      "metadata": {
        "id": "B2Sd0312lz5V"
      },
      "outputs": [],
      "source": [
        "a=a.drop(columns=['ID'],axis=1)"
      ]
    },
    {
      "cell_type": "code",
      "execution_count": null,
      "metadata": {
        "colab": {
          "base_uri": "https://localhost:8080/"
        },
        "id": "F5Uehc0EmMxB",
        "outputId": "3e3e604e-d4f1-4df5-d396-cff79d100248"
      },
      "outputs": [
        {
          "name": "stdout",
          "output_type": "stream",
          "text": [
            "[0. 0.]\n"
          ]
        }
      ],
      "source": [
        "import numpy as np\n",
        "X = a[['LIMIT_BAL', 'AGE']].values\n",
        "y = a['default payment_next_month'].values\n",
        "def sigmoid(z):\n",
        "    return 1 / (1 + np.exp(-z))\n",
        "theta = np.zeros(X.shape[1])\n",
        "print(theta)\n",
        "learning_rate = 0.01\n",
        "num_epochs = 1000"
      ]
    },
    {
      "cell_type": "code",
      "execution_count": null,
      "metadata": {
        "colab": {
          "base_uri": "https://localhost:8080/"
        },
        "id": "WRrQp02Ppv1m",
        "outputId": "eba99899-e95a-48f5-98a1-9c90b407f89d"
      },
      "outputs": [
        {
          "name": "stderr",
          "output_type": "stream",
          "text": [
            "<ipython-input-3-3aaecd4ab2ed>:5: RuntimeWarning: overflow encountered in exp\n",
            "  return 1 / (1 + np.exp(-z))\n"
          ]
        },
        {
          "name": "stdout",
          "output_type": "stream",
          "text": [
            "Prediction: 0\n"
          ]
        }
      ],
      "source": [
        "for epoch in range(num_epochs):\n",
        "    z = np.dot(X, theta)\n",
        "    h = sigmoid(z)\n",
        "    gradient = np.dot(X.T, (h - y)) / len(y)\n",
        "    theta -= learning_rate * gradient\n",
        "def sigmoid(z):\n",
        "    z = np.clip(z, -500, 500)\n",
        "    return 1 / (1 + np.exp(-z))\n",
        "def sigmoid(z):\n",
        "    z = np.clip(z, -500, 500)\n",
        "    return 1 / (1 + np.exp(-z))\n",
        "def predict(x_new, theta):\n",
        "    probability = sigmoid(np.dot(x_new, theta))\n",
        "    return 1 if probability >= 0.5 else 0\n",
        "new_feature1_value = 50000\n",
        "new_feature2_value = 30\n",
        "new_data_point = np.array([new_feature1_value, new_feature2_value])\n",
        "prediction = predict(new_data_point, theta)\n",
        "print(f\"Prediction: {prediction}\")"
      ]
    },
    {
      "cell_type": "code",
      "execution_count": null,
      "metadata": {
        "colab": {
          "base_uri": "https://localhost:8080/"
        },
        "id": "-SbPwEWX9HwI",
        "outputId": "4589e51b-149c-43af-8385-fbe3763be770"
      },
      "outputs": [
        {
          "name": "stdout",
          "output_type": "stream",
          "text": [
            "Accuracy: 0.7788\n",
            "True Positives: 0\n",
            "True Negatives: 23364\n",
            "False Positives: 0\n",
            "False Negatives: 6636\n",
            "Precision: 0.0\n",
            "Recall: 0.0\n",
            "F1 Score: 0.0\n"
          ]
        }
      ],
      "source": [
        "def calculate_accuracy_and_errors(X, y, theta):\n",
        "    predicted_probabilities = sigmoid(np.dot(X, theta))\n",
        "    predictions = (predicted_probabilities >= 0.5).astype(int)\n",
        "    accuracy = np.mean(predictions == y)\n",
        "    true_positives = np.sum((predictions == 1) & (y == 1))\n",
        "    true_negatives = np.sum((predictions == 0) & (y == 0))\n",
        "    false_positives = np.sum((predictions == 1) & (y == 0))\n",
        "    false_negatives = np.sum((predictions == 0) & (y == 1))\n",
        "\n",
        "\n",
        "    if (true_positives + false_positives) > 0:\n",
        "        precision = true_positives / (true_positives + false_positives)\n",
        "    else:\n",
        "        precision = 0.0\n",
        "\n",
        "    if (true_positives + false_negatives) > 0:\n",
        "        recall = true_positives / (true_positives + false_negatives)\n",
        "    else:\n",
        "        recall = 0.0\n",
        "\n",
        "    if (precision + recall) > 0:\n",
        "        f1_score = 2 * (precision * recall) / (precision + recall)\n",
        "    else:\n",
        "        f1_score = 0.0\n",
        "    print(f\"Accuracy: {accuracy}\")\n",
        "    print(f\"True Positives: {true_positives}\")\n",
        "    print(f\"True Negatives: {true_negatives}\")\n",
        "    print(f\"False Positives: {false_positives}\")\n",
        "    print(f\"False Negatives: {false_negatives}\")\n",
        "    print(f\"Precision: {precision}\")\n",
        "    print(f\"Recall: {recall}\")\n",
        "    print(f\"F1 Score: {f1_score}\")\n",
        "calculate_accuracy_and_errors(X, y, theta)"
      ]
    },
    {
      "cell_type": "code",
      "execution_count": null,
      "metadata": {
        "id": "YMmvtELr9MIS"
      },
      "outputs": [],
      "source": [
        "from sklearn.model_selection import train_test_split\n",
        "from sklearn.preprocessing import StandardScaler\n",
        "X_train, X_test, y_train, y_test = train_test_split(X, y, test_size=0.2, random_state=42)\n",
        "scaler = StandardScaler()\n",
        "X_train = scaler.fit_transform(X_train)\n",
        "X_test = scaler.transform(X_test)"
      ]
    },
    {
      "cell_type": "code",
      "execution_count": null,
      "metadata": {
        "colab": {
          "base_uri": "https://localhost:8080/"
        },
        "id": "2yyQvKzJ-MHe",
        "outputId": "26f65f64-9254-4eba-965b-7d7ec8869a86"
      },
      "outputs": [
        {
          "name": "stdout",
          "output_type": "stream",
          "text": [
            "Accuracy: 0.7811666666666667\n",
            "Minimum Error: 0.21883333333333332\n",
            "Maximum Error: 0.7811666666666667\n"
          ]
        }
      ],
      "source": [
        "from sklearn.svm import SVC\n",
        "svm_classifier = SVC(kernel='linear', C=1.0, random_state=42)\n",
        "svm_classifier.fit(X_train, y_train)\n",
        "y_pred = svm_classifier.predict(X_test)\n",
        "from sklearn.metrics import accuracy_score\n",
        "accuracy = accuracy_score(y_test, y_pred)\n",
        "min_error = 1.0 - accuracy\n",
        "max_error = 1.0 - min_error\n",
        "print(f\"Accuracy: {accuracy}\")\n",
        "print(f\"Minimum Error: {min_error}\")\n",
        "print(f\"Maximum Error: {max_error}\")"
      ]
    },
    {
      "cell_type": "code",
      "execution_count": null,
      "metadata": {
        "colab": {
          "base_uri": "https://localhost:8080/"
        },
        "id": "acMGbsO2_Pu5",
        "outputId": "38de78ab-7054-48d2-9d32-77fa8657f934"
      },
      "outputs": [
        {
          "name": "stdout",
          "output_type": "stream",
          "text": [
            "Accuracy: 0.6475\n",
            "Minimum Error: 0.35250000000000004\n",
            "Maximum Error: 0.6475\n"
          ]
        }
      ],
      "source": [
        "from sklearn.linear_model import Perceptron\n",
        "perceptron_classifier = Perceptron(max_iter=1000, random_state=42)\n",
        "perceptron_classifier.fit(X_train, y_train)\n",
        "y_pred = perceptron_classifier.predict(X_test)\n",
        "from sklearn.metrics import accuracy_score\n",
        "accuracy = accuracy_score(y_test, y_pred)\n",
        "min_error = 1.0 - accuracy\n",
        "max_error = 1.0 - min_error\n",
        "print(f\"Accuracy: {accuracy}\")\n",
        "print(f\"Minimum Error: {min_error}\")\n",
        "print(f\"Maximum Error: {max_error}\")"
      ]
    },
    {
      "cell_type": "code",
      "execution_count": null,
      "metadata": {
        "colab": {
          "base_uri": "https://localhost:8080/"
        },
        "id": "4FiN5WAwBg9r",
        "outputId": "a78ca06b-d157-4923-ac84-86a08d8a2298"
      },
      "outputs": [
        {
          "name": "stdout",
          "output_type": "stream",
          "text": [
            "Accuracy: 0.8131666666666667\n",
            "Classification Report:\n",
            "               precision    recall  f1-score   support\n",
            "\n",
            "           0       0.84      0.94      0.89      4687\n",
            "           1       0.63      0.36      0.46      1313\n",
            "\n",
            "    accuracy                           0.81      6000\n",
            "   macro avg       0.73      0.65      0.67      6000\n",
            "weighted avg       0.79      0.81      0.79      6000\n",
            "\n",
            "Confusion Matrix:\n",
            " [[4411  276]\n",
            " [ 845  468]]\n"
          ]
        }
      ],
      "source": [
        "import pandas as pd\n",
        "import numpy as np\n",
        "from sklearn.model_selection import train_test_split\n",
        "from sklearn.preprocessing import StandardScaler\n",
        "from sklearn.ensemble import RandomForestClassifier\n",
        "from sklearn.metrics import accuracy_score, classification_report, confusion_matrix\n",
        "data = pd.read_csv('/content/credit_card_default.csv')\n",
        "X = data.drop('default payment_next_month', axis=1)  # Features\n",
        "y = data['default payment_next_month']  # Target variable\n",
        "X_train, X_test, y_train, y_test = train_test_split(X, y, test_size=0.2, random_state=42)\n",
        "scaler = StandardScaler()\n",
        "X_train = scaler.fit_transform(X_train)\n",
        "X_test = scaler.transform(X_test)\n",
        "rf_classifier = RandomForestClassifier(n_estimators=100, random_state=42)\n",
        "rf_classifier.fit(X_train, y_train)\n",
        "y_pred = rf_classifier.predict(X_test)\n",
        "accuracy = accuracy_score(y_test, y_pred)\n",
        "print(f\"Accuracy: {accuracy}\")\n",
        "class_report = classification_report(y_test, y_pred)\n",
        "print(\"Classification Report:\\n\", class_report)\n",
        "conf_matrix = confusion_matrix(y_test, y_pred)\n",
        "print(\"Confusion Matrix:\\n\", conf_matrix)"
      ]
    }
  ],
  "metadata": {
    "colab": {
      "provenance": []
    },
    "kernelspec": {
      "display_name": "Python 3",
      "name": "python3"
    },
    "language_info": {
      "name": "python"
    }
  },
  "nbformat": 4,
  "nbformat_minor": 0
}
